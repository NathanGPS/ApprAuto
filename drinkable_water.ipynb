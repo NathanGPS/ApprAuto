{
 "cells": [
  {
   "cell_type": "code",
   "execution_count": 1,
   "metadata": {},
   "outputs": [],
   "source": [
    "import seaborn as sns\n",
    "import matplotlib.pyplot as plt\n",
    "import pandas as pd\n",
    "import numpy as np\n",
    "import os\n",
    "\n",
    "from sklearn.model_selection import train_test_split\n",
    "from sklearn.preprocessing import StandardScaler\n",
    "from sklearn.linear_model import LogisticRegression\n",
    "from sklearn.svm import SVC\n",
    "from sklearn.naive_bayes import GaussianNB\n",
    "from sklearn.neighbors import KNeighborsClassifier\n",
    "from sklearn.ensemble import RandomForestClassifier\n",
    "from sklearn.metrics import accuracy_score\n",
    "\n",
    "sns.set_style('darkgrid')"
   ]
  },
  {
   "cell_type": "markdown",
   "metadata": {},
   "source": [
    "## Helper functions"
   ]
  },
  {
   "cell_type": "code",
   "execution_count": 2,
   "metadata": {},
   "outputs": [],
   "source": [
    "def plot_bar_charts(data, title, ax=None):\n",
    "    ax = data.plot.bar(ax=ax)\n",
    "    ax.set_ylim(0, 0.25)\n",
    "\n",
    "    # set x labels to %\n",
    "    vals = ax.get_yticks()\n",
    "    ax.set_yticklabels(['{}%'.format(int(x * 100)) for x in vals])\n",
    "\n",
    "    ax.set_axisbelow(True)\n",
    "    ax.grid(color='#cccccc', linestyle='dashed')\n",
    "    plt.xticks(rotation=0)\n",
    "    ax.spines[\"top\"].set_visible(False)\n",
    "    ax.spines[\"right\"].set_visible(False)\n",
    "    ax.spines[\"left\"].set_visible(False)\n",
    "    ax.set_title(title, fontdict={\"fontsize\": 12}, y=-0.1)\n",
    "\n",
    "    # plt.show()\n",
    "\n",
    "\n",
    "def plot_pie_chart(data, column, ax, only_keep_na=False):\n",
    "    if only_keep_na:\n",
    "        data = data[data[column].isna()][\"Potability\"]\n",
    "    else:\n",
    "        data = data[\"Potability\"]\n",
    "    df = pd.Series([data.sum(), len(data) - data.sum()], index=['Potable', 'Not Potable'], name=\"\")\n",
    "    if only_keep_na:\n",
    "        plot, = df.plot.pie(subplots=True, legend=False, labels=['', ''], ax=ax)\n",
    "        plot.set_title(\"Datapoints where \" + column + \" is missing\", fontdict={\"fontsize\": 12}, y=-0.1)\n",
    "    else:\n",
    "        plot, = df.plot.pie(subplots=True, legend=False, ax=ax, labeldistance=None)\n",
    "        plot.set_axis_off()\n",
    "        plot.legend([\"Potable\", 'Not potable'], loc=(1, 1), fontsize=12)\n",
    "        plot.set_title(\"All datapoints\", fontdict={\"fontsize\": 12}, y=-0.1)"
   ]
  },
  {
   "cell_type": "markdown",
   "metadata": {},
   "source": [
    "## Charger les données"
   ]
  },
  {
   "cell_type": "code",
   "execution_count": 3,
   "metadata": {},
   "outputs": [
    {
     "data": {
      "text/html": "<div>\n<style scoped>\n    .dataframe tbody tr th:only-of-type {\n        vertical-align: middle;\n    }\n\n    .dataframe tbody tr th {\n        vertical-align: top;\n    }\n\n    .dataframe thead th {\n        text-align: right;\n    }\n</style>\n<table border=\"1\" class=\"dataframe\">\n  <thead>\n    <tr style=\"text-align: right;\">\n      <th></th>\n      <th>ph</th>\n      <th>Hardness</th>\n      <th>Solids</th>\n      <th>Chloramines</th>\n      <th>Sulfate</th>\n      <th>Conductivity</th>\n      <th>Organic_carbon</th>\n      <th>Trihalomethanes</th>\n      <th>Turbidity</th>\n      <th>Potability</th>\n    </tr>\n  </thead>\n  <tbody>\n    <tr>\n      <th>0</th>\n      <td>NaN</td>\n      <td>204.890456</td>\n      <td>20791.31898</td>\n      <td>7.300212</td>\n      <td>368.516441</td>\n      <td>564.308654</td>\n      <td>10.379783</td>\n      <td>86.990970</td>\n      <td>2.963135</td>\n      <td>0</td>\n    </tr>\n    <tr>\n      <th>1</th>\n      <td>3.716080</td>\n      <td>129.422921</td>\n      <td>18630.05786</td>\n      <td>6.635246</td>\n      <td>NaN</td>\n      <td>592.885359</td>\n      <td>15.180013</td>\n      <td>56.329076</td>\n      <td>4.500656</td>\n      <td>0</td>\n    </tr>\n    <tr>\n      <th>2</th>\n      <td>8.099124</td>\n      <td>224.236259</td>\n      <td>19909.54173</td>\n      <td>9.275884</td>\n      <td>NaN</td>\n      <td>418.606213</td>\n      <td>16.868637</td>\n      <td>66.420093</td>\n      <td>3.055934</td>\n      <td>0</td>\n    </tr>\n    <tr>\n      <th>3</th>\n      <td>8.316766</td>\n      <td>214.373394</td>\n      <td>22018.41744</td>\n      <td>8.059332</td>\n      <td>356.886136</td>\n      <td>363.266516</td>\n      <td>18.436525</td>\n      <td>100.341674</td>\n      <td>4.628771</td>\n      <td>0</td>\n    </tr>\n    <tr>\n      <th>4</th>\n      <td>9.092223</td>\n      <td>181.101509</td>\n      <td>17978.98634</td>\n      <td>6.546600</td>\n      <td>310.135738</td>\n      <td>398.410813</td>\n      <td>11.558279</td>\n      <td>31.997993</td>\n      <td>4.075075</td>\n      <td>0</td>\n    </tr>\n    <tr>\n      <th>5</th>\n      <td>5.584087</td>\n      <td>188.313324</td>\n      <td>28748.68774</td>\n      <td>7.544869</td>\n      <td>326.678363</td>\n      <td>280.467916</td>\n      <td>8.399735</td>\n      <td>54.917862</td>\n      <td>2.559708</td>\n      <td>0</td>\n    </tr>\n    <tr>\n      <th>6</th>\n      <td>10.223862</td>\n      <td>248.071735</td>\n      <td>28749.71654</td>\n      <td>7.513408</td>\n      <td>393.663396</td>\n      <td>283.651634</td>\n      <td>13.789695</td>\n      <td>84.603556</td>\n      <td>2.672989</td>\n      <td>0</td>\n    </tr>\n    <tr>\n      <th>7</th>\n      <td>8.635849</td>\n      <td>203.361523</td>\n      <td>13672.09176</td>\n      <td>4.563009</td>\n      <td>303.309771</td>\n      <td>474.607645</td>\n      <td>12.363817</td>\n      <td>62.798309</td>\n      <td>4.401425</td>\n      <td>0</td>\n    </tr>\n    <tr>\n      <th>8</th>\n      <td>NaN</td>\n      <td>118.988579</td>\n      <td>14285.58385</td>\n      <td>7.804174</td>\n      <td>268.646941</td>\n      <td>389.375566</td>\n      <td>12.706049</td>\n      <td>53.928846</td>\n      <td>3.595017</td>\n      <td>0</td>\n    </tr>\n    <tr>\n      <th>9</th>\n      <td>11.180284</td>\n      <td>227.231469</td>\n      <td>25484.50849</td>\n      <td>9.077200</td>\n      <td>404.041635</td>\n      <td>563.885482</td>\n      <td>17.927806</td>\n      <td>71.976601</td>\n      <td>4.370562</td>\n      <td>0</td>\n    </tr>\n  </tbody>\n</table>\n</div>",
      "text/plain": "          ph    Hardness       Solids  Chloramines     Sulfate  Conductivity  \\\n0        NaN  204.890456  20791.31898     7.300212  368.516441    564.308654   \n1   3.716080  129.422921  18630.05786     6.635246         NaN    592.885359   \n2   8.099124  224.236259  19909.54173     9.275884         NaN    418.606213   \n3   8.316766  214.373394  22018.41744     8.059332  356.886136    363.266516   \n4   9.092223  181.101509  17978.98634     6.546600  310.135738    398.410813   \n5   5.584087  188.313324  28748.68774     7.544869  326.678363    280.467916   \n6  10.223862  248.071735  28749.71654     7.513408  393.663396    283.651634   \n7   8.635849  203.361523  13672.09176     4.563009  303.309771    474.607645   \n8        NaN  118.988579  14285.58385     7.804174  268.646941    389.375566   \n9  11.180284  227.231469  25484.50849     9.077200  404.041635    563.885482   \n\n   Organic_carbon  Trihalomethanes  Turbidity  Potability  \n0       10.379783        86.990970   2.963135           0  \n1       15.180013        56.329076   4.500656           0  \n2       16.868637        66.420093   3.055934           0  \n3       18.436525       100.341674   4.628771           0  \n4       11.558279        31.997993   4.075075           0  \n5        8.399735        54.917862   2.559708           0  \n6       13.789695        84.603556   2.672989           0  \n7       12.363817        62.798309   4.401425           0  \n8       12.706049        53.928846   3.595017           0  \n9       17.927806        71.976601   4.370562           0  "
     },
     "execution_count": 3,
     "metadata": {},
     "output_type": "execute_result"
    }
   ],
   "source": [
    "df = pd.read_csv(\"./data/drinking_water_potability.csv\")\n",
    "df.head(10)"
   ]
  },
  {
   "cell_type": "markdown",
   "metadata": {},
   "source": [
    "## Exploration des données"
   ]
  },
  {
   "cell_type": "code",
   "execution_count": 4,
   "metadata": {},
   "outputs": [
    {
     "data": {
      "text/plain": "(3276, 10)"
     },
     "execution_count": 4,
     "metadata": {},
     "output_type": "execute_result"
    }
   ],
   "source": [
    "df.shape"
   ]
  },
  {
   "cell_type": "code",
   "execution_count": 5,
   "metadata": {},
   "outputs": [
    {
     "name": "stdout",
     "output_type": "stream",
     "text": [
      "<class 'pandas.core.frame.DataFrame'>\n",
      "RangeIndex: 3276 entries, 0 to 3275\n",
      "Data columns (total 10 columns):\n",
      "ph                 2785 non-null float64\n",
      "Hardness           3276 non-null float64\n",
      "Solids             3276 non-null float64\n",
      "Chloramines        3276 non-null float64\n",
      "Sulfate            2495 non-null float64\n",
      "Conductivity       3276 non-null float64\n",
      "Organic_carbon     3276 non-null float64\n",
      "Trihalomethanes    3114 non-null float64\n",
      "Turbidity          3276 non-null float64\n",
      "Potability         3276 non-null int64\n",
      "dtypes: float64(9), int64(1)\n",
      "memory usage: 256.1 KB\n"
     ]
    }
   ],
   "source": [
    "df.info()"
   ]
  },
  {
   "cell_type": "code",
   "execution_count": 6,
   "metadata": {},
   "outputs": [
    {
     "data": {
      "text/html": "<div>\n<style scoped>\n    .dataframe tbody tr th:only-of-type {\n        vertical-align: middle;\n    }\n\n    .dataframe tbody tr th {\n        vertical-align: top;\n    }\n\n    .dataframe thead th {\n        text-align: right;\n    }\n</style>\n<table border=\"1\" class=\"dataframe\">\n  <thead>\n    <tr style=\"text-align: right;\">\n      <th></th>\n      <th>ph</th>\n      <th>Hardness</th>\n      <th>Solids</th>\n      <th>Chloramines</th>\n      <th>Sulfate</th>\n      <th>Conductivity</th>\n      <th>Organic_carbon</th>\n      <th>Trihalomethanes</th>\n      <th>Turbidity</th>\n      <th>Potability</th>\n    </tr>\n  </thead>\n  <tbody>\n    <tr>\n      <th>count</th>\n      <td>2785.000000</td>\n      <td>3276.000000</td>\n      <td>3276.000000</td>\n      <td>3276.000000</td>\n      <td>2495.000000</td>\n      <td>3276.000000</td>\n      <td>3276.000000</td>\n      <td>3114.000000</td>\n      <td>3276.000000</td>\n      <td>3276.000000</td>\n    </tr>\n    <tr>\n      <th>mean</th>\n      <td>7.080795</td>\n      <td>196.369496</td>\n      <td>22014.092526</td>\n      <td>7.122277</td>\n      <td>333.775777</td>\n      <td>426.205111</td>\n      <td>14.284970</td>\n      <td>66.396293</td>\n      <td>3.966786</td>\n      <td>0.390110</td>\n    </tr>\n    <tr>\n      <th>std</th>\n      <td>1.594320</td>\n      <td>32.879761</td>\n      <td>8768.570828</td>\n      <td>1.583085</td>\n      <td>41.416840</td>\n      <td>80.824064</td>\n      <td>3.308162</td>\n      <td>16.175008</td>\n      <td>0.780382</td>\n      <td>0.487849</td>\n    </tr>\n    <tr>\n      <th>min</th>\n      <td>0.000000</td>\n      <td>47.432000</td>\n      <td>320.942611</td>\n      <td>0.352000</td>\n      <td>129.000000</td>\n      <td>181.483754</td>\n      <td>2.200000</td>\n      <td>0.738000</td>\n      <td>1.450000</td>\n      <td>0.000000</td>\n    </tr>\n    <tr>\n      <th>25%</th>\n      <td>6.093092</td>\n      <td>176.850538</td>\n      <td>15666.690300</td>\n      <td>6.127421</td>\n      <td>307.699498</td>\n      <td>365.734414</td>\n      <td>12.065801</td>\n      <td>55.844536</td>\n      <td>3.439711</td>\n      <td>0.000000</td>\n    </tr>\n    <tr>\n      <th>50%</th>\n      <td>7.036752</td>\n      <td>196.967627</td>\n      <td>20927.833605</td>\n      <td>7.130299</td>\n      <td>333.073546</td>\n      <td>421.884968</td>\n      <td>14.218338</td>\n      <td>66.622485</td>\n      <td>3.955028</td>\n      <td>0.000000</td>\n    </tr>\n    <tr>\n      <th>75%</th>\n      <td>8.062066</td>\n      <td>216.667456</td>\n      <td>27332.762125</td>\n      <td>8.114887</td>\n      <td>359.950170</td>\n      <td>481.792305</td>\n      <td>16.557652</td>\n      <td>77.337473</td>\n      <td>4.500320</td>\n      <td>1.000000</td>\n    </tr>\n    <tr>\n      <th>max</th>\n      <td>14.000000</td>\n      <td>323.124000</td>\n      <td>61227.196010</td>\n      <td>13.127000</td>\n      <td>481.030642</td>\n      <td>753.342620</td>\n      <td>28.300000</td>\n      <td>124.000000</td>\n      <td>6.739000</td>\n      <td>1.000000</td>\n    </tr>\n  </tbody>\n</table>\n</div>",
      "text/plain": "                ph     Hardness        Solids  Chloramines      Sulfate  \\\ncount  2785.000000  3276.000000   3276.000000  3276.000000  2495.000000   \nmean      7.080795   196.369496  22014.092526     7.122277   333.775777   \nstd       1.594320    32.879761   8768.570828     1.583085    41.416840   \nmin       0.000000    47.432000    320.942611     0.352000   129.000000   \n25%       6.093092   176.850538  15666.690300     6.127421   307.699498   \n50%       7.036752   196.967627  20927.833605     7.130299   333.073546   \n75%       8.062066   216.667456  27332.762125     8.114887   359.950170   \nmax      14.000000   323.124000  61227.196010    13.127000   481.030642   \n\n       Conductivity  Organic_carbon  Trihalomethanes    Turbidity   Potability  \ncount   3276.000000     3276.000000      3114.000000  3276.000000  3276.000000  \nmean     426.205111       14.284970        66.396293     3.966786     0.390110  \nstd       80.824064        3.308162        16.175008     0.780382     0.487849  \nmin      181.483754        2.200000         0.738000     1.450000     0.000000  \n25%      365.734414       12.065801        55.844536     3.439711     0.000000  \n50%      421.884968       14.218338        66.622485     3.955028     0.000000  \n75%      481.792305       16.557652        77.337473     4.500320     1.000000  \nmax      753.342620       28.300000       124.000000     6.739000     1.000000  "
     },
     "execution_count": 6,
     "metadata": {},
     "output_type": "execute_result"
    }
   ],
   "source": [
    "df.describe()"
   ]
  },
  {
   "cell_type": "code",
   "execution_count": 7,
   "metadata": {},
   "outputs": [
    {
     "data": {
      "text/plain": "ph                 491\nHardness             0\nSolids               0\nChloramines          0\nSulfate            781\nConductivity         0\nOrganic_carbon       0\nTrihalomethanes    162\nTurbidity            0\nPotability           0\ndtype: int64"
     },
     "execution_count": 7,
     "metadata": {},
     "output_type": "execute_result"
    }
   ],
   "source": [
    "df.isnull().sum()"
   ]
  },
  {
   "cell_type": "code",
   "execution_count": 8,
   "metadata": {},
   "outputs": [
    {
     "data": {
      "text/plain": "0    1998\n1    1278\nName: Potability, dtype: int64"
     },
     "execution_count": 8,
     "metadata": {},
     "output_type": "execute_result"
    }
   ],
   "source": [
    "df[\"Potability\"].value_counts()"
   ]
  },
  {
   "cell_type": "code",
   "execution_count": 9,
   "metadata": {},
   "outputs": [
    {
     "data": {
      "text/plain": "<matplotlib.axes._subplots.AxesSubplot at 0x7f5044e3f4e0>"
     },
     "execution_count": 9,
     "metadata": {},
     "output_type": "execute_result"
    },
    {
     "data": {
      "image/png": "[encoded data removed]",
      "text/plain": "<Figure size 720x720 with 2 Axes>"
     },
     "metadata": {
      "needs_background": "light"
     },
     "output_type": "display_data"
    }
   ],
   "source": [
    "plt.figure(figsize=(10,10))\n",
    "sns.heatmap(df.corr(), annot = True)"
   ]
  },
  {
   "cell_type": "code",
   "execution_count": 10,
   "metadata": {},
   "outputs": [
    {
     "data": {
      "text/plain": "Potability         1.000000\nSolids             0.033743\nChloramines        0.023779\nTrihalomethanes    0.007130\nTurbidity          0.001581\nph                -0.003556\nConductivity      -0.008128\nHardness          -0.013837\nSulfate           -0.023577\nOrganic_carbon    -0.030001\nName: Potability, dtype: float64"
     },
     "execution_count": 10,
     "metadata": {},
     "output_type": "execute_result"
    }
   ],
   "source": [
    "corr = df.corr()\n",
    "corr[\"Potability\"].sort_values(ascending = False)"
   ]
  },
  {
   "cell_type": "code",
   "execution_count": 11,
   "metadata": {},
   "outputs": [
    {
     "data": {
      "image/png": "[encoded data removed]",
      "text/plain": "<Figure size 720x288 with 1 Axes>"
     },
     "metadata": {
      "needs_background": "light"
     },
     "output_type": "display_data"
    },
    {
     "data": {
      "image/png": "[encoded data removed]",
      "text/plain": "<Figure size 720x288 with 1 Axes>"
     },
     "metadata": {
      "needs_background": "light"
     },
     "output_type": "display_data"
    },
    {
     "data": {
      "image/png": "[encoded data removed]",
      "text/plain": "<Figure size 720x288 with 1 Axes>"
     },
     "metadata": {
      "needs_background": "light"
     },
     "output_type": "display_data"
    },
    {
     "data": {
      "image/png": "[encoded data removed]",
      "text/plain": "<Figure size 720x288 with 1 Axes>"
     },
     "metadata": {
      "needs_background": "light"
     },
     "output_type": "display_data"
    },
    {
     "data": {
      "image/png": "[encoded data removed]",
      "text/plain": "<Figure size 720x288 with 1 Axes>"
     },
     "metadata": {
      "needs_background": "light"
     },
     "output_type": "display_data"
    },
    {
     "data": {
      "image/png": "[encoded data removed]",
      "text/plain": "<Figure size 720x288 with 1 Axes>"
     },
     "metadata": {
      "needs_background": "light"
     },
     "output_type": "display_data"
    },
    {
     "data": {
      "image/png": "[encoded data removed]",
      "text/plain": "<Figure size 720x288 with 1 Axes>"
     },
     "metadata": {
      "needs_background": "light"
     },
     "output_type": "display_data"
    },
    {
     "data": {
      "image/png": "[encoded data removed]",
      "text/plain": "<Figure size 720x288 with 1 Axes>"
     },
     "metadata": {
      "needs_background": "light"
     },
     "output_type": "display_data"
    },
    {
     "data": {
      "image/png": "[encoded data removed]",
      "text/plain": "<Figure size 720x288 with 1 Axes>"
     },
     "metadata": {
      "needs_background": "light"
     },
     "output_type": "display_data"
    },
    {
     "data": {
      "image/png": "[encoded data removed]",
      "text/plain": "<Figure size 720x288 with 1 Axes>"
     },
     "metadata": {
      "needs_background": "light"
     },
     "output_type": "display_data"
    }
   ],
   "source": [
    "for column in df.columns:\n",
    "    plt.figure(figsize=(10, 4))\n",
    "    sns.boxplot(df[column])"
   ]
  },
  {
   "cell_type": "markdown",
   "metadata": {},
   "source": [
    "## Dataset quality"
   ]
  },
  {
   "cell_type": "markdown",
   "metadata": {},
   "source": [
    "Ici, on se demande si le dataset contient des valeurs abberantes "
   ]
  },
  {
   "cell_type": "code",
   "execution_count": 12,
   "metadata": {},
   "outputs": [
    {
     "name": "stdout",
     "output_type": "stream",
     "text": [
      "Nombre d'instances labellisées en potable avec un ph hors de [5,9]: 184\n"
     ]
    }
   ],
   "source": [
    "#ph inadmissible\n",
    "ph_inad = df[((df[\"ph\"] < 5) | (df[\"ph\"] > 9)) & (df[\"Potability\"] == 1) ]\n",
    "print(\"Nombre d'instances labellisées en potable avec un ph hors de [5,9]: {}\".format(len(ph_inad)))"
   ]
  },
  {
   "cell_type": "code",
   "execution_count": 13,
   "metadata": {},
   "outputs": [
    {
     "data": {
      "text/plain": "Index(['ph', 'Hardness', 'Solids', 'Chloramines', 'Sulfate', 'Conductivity',\n       'Organic_carbon', 'Trihalomethanes', 'Turbidity', 'Potability'],\n      dtype='object')"
     },
     "execution_count": 13,
     "metadata": {},
     "output_type": "execute_result"
    }
   ],
   "source": [
    "df.columns"
   ]
  },
  {
   "cell_type": "code",
   "execution_count": 14,
   "metadata": {},
   "outputs": [
    {
     "name": "stdout",
     "output_type": "stream",
     "text": [
      "Nombre d'instances labellisées en potable avec un tds hors de [600,1000]: 1277\n"
     ]
    }
   ],
   "source": [
    "#TDS inadmissible\n",
    "tds_inad = df[((df[\"Solids\"] < 600) | (df[\"Solids\"] > 1000)) & (df[\"Potability\"] == 1) ]\n",
    "print(\"Nombre d'instances labellisées en potable avec un tds hors de [600,1000]: {}\".format(len(tds_inad)))"
   ]
  },
  {
   "cell_type": "code",
   "execution_count": 15,
   "metadata": {},
   "outputs": [
    {
     "name": "stdout",
     "output_type": "stream",
     "text": [
      "Nombre d'instances labellisées en potable avec chloramines plus grand que 4: 1\n"
     ]
    }
   ],
   "source": [
    "#Chloramines inadmissible\n",
    "chl_inad = [(df[\"Chloramines\"] > 4)  & (df[\"Potability\"] == 1) ]\n",
    "print(\"Nombre d'instances labellisées en potable avec chloramines plus grand que 4: {}\".format(len(chl_inad)))"
   ]
  },
  {
   "cell_type": "markdown",
   "metadata": {},
   "source": [
    "On voit qu'il y a beaucoup de valeur incohérente avec la fiche du dataset. Par sécurité nous n'enlèverons aucun outlier"
   ]
  },
  {
   "cell_type": "markdown",
   "metadata": {},
   "source": [
    "## Missing values"
   ]
  },
  {
   "cell_type": "code",
   "execution_count": 16,
   "metadata": {},
   "outputs": [],
   "source": [
    "from sklearn.svm import SVC\n",
    "from sklearn.preprocessing import StandardScaler\n",
    "from sklearn.model_selection import train_test_split\n",
    "from sklearn.pipeline import Pipeline\n",
    "from sklearn.metrics import f1_score\n",
    "from sklearn.metrics import classification_report\n",
    "from sklearn.impute import SimpleImputer\n",
    "from sklearn.experimental import enable_iterative_imputer\n",
    "from sklearn.impute import IterativeImputer"
   ]
  },
  {
   "cell_type": "code",
   "execution_count": 17,
   "metadata": {},
   "outputs": [
    {
     "data": {
      "image/png": "[encoded data removed]",
      "text/plain": "<Figure size 432x288 with 1 Axes>"
     },
     "metadata": {
      "needs_background": "light"
     },
     "output_type": "display_data"
    }
   ],
   "source": [
    "missing_values = df.isnull().sum()/ len(df)\n",
    "plot_bar_charts(missing_values, title=\"\")\n",
    "plt.show()"
   ]
  },
  {
   "cell_type": "markdown",
   "metadata": {},
   "source": [
    "### Listwise deletion"
   ]
  },
  {
   "cell_type": "code",
   "execution_count": 18,
   "metadata": {},
   "outputs": [],
   "source": [
    "df_lwd = df[-(pd.isnull(df[\"ph\"]) | pd.isnull(df[\"Trihalomethanes\"]) | pd.isnull(df[\"Sulfate\"]))]\n",
    "X_lwd = df_lwd.drop(['Potability'],axis=1)\n",
    "y_lwd = df_lwd['Potability']"
   ]
  },
  {
   "cell_type": "code",
   "execution_count": 19,
   "metadata": {},
   "outputs": [
    {
     "name": "stdout",
     "output_type": "stream",
     "text": [
      "              precision    recall  f1-score   support\n",
      "\n",
      "           0       0.84      0.73      0.78       354\n",
      "           1       0.51      0.66      0.58       149\n",
      "\n",
      "    accuracy                           0.71       503\n",
      "   macro avg       0.67      0.70      0.68       503\n",
      "weighted avg       0.74      0.71      0.72       503\n",
      "\n",
      "0.7117296222664016\n"
     ]
    }
   ],
   "source": [
    "X_train,X_test,y_train,y_test = train_test_split(X_lwd,y_lwd,random_state=0)\n",
    "pipe_svm = Pipeline([('scaler', StandardScaler()), ('svc', SVC(C=3, kernel='rbf', ))])\n",
    "pipe_svm.fit(X_train, y_train)\n",
    "y_pred = pipe_svm.predict(X_test)\n",
    "print(classification_report(y_pred, y_test))\n",
    "print(accuracy_score(y_pred, y_test))"
   ]
  },
  {
   "cell_type": "markdown",
   "metadata": {},
   "source": [
    "### Univariate feature imputation"
   ]
  },
  {
   "cell_type": "code",
   "execution_count": 20,
   "metadata": {},
   "outputs": [],
   "source": [
    "X_imp = df.drop(['Potability'],axis=1)\n",
    "y_imp = df['Potability']"
   ]
  },
  {
   "cell_type": "code",
   "execution_count": 21,
   "metadata": {},
   "outputs": [],
   "source": [
    "imp_mean = SimpleImputer(strategy='mean')\n",
    "X_imp_mean = imp_mean.fit_transform(X_imp)"
   ]
  },
  {
   "cell_type": "code",
   "execution_count": 22,
   "metadata": {},
   "outputs": [
    {
     "name": "stdout",
     "output_type": "stream",
     "text": [
      "              precision    recall  f1-score   support\n",
      "\n",
      "           0       0.88      0.68      0.76       650\n",
      "           1       0.34      0.63      0.44       169\n",
      "\n",
      "    accuracy                           0.67       819\n",
      "   macro avg       0.61      0.66      0.60       819\n",
      "weighted avg       0.77      0.67      0.70       819\n",
      "\n",
      "0.6678876678876678\n"
     ]
    }
   ],
   "source": [
    "X_train,X_test,y_train,y_test = train_test_split(X_imp_mean,y_imp,random_state=0)\n",
    "pipe_svm.fit(X_train, y_train)\n",
    "y_pred = pipe_svm.predict(X_test)\n",
    "print(classification_report(y_pred, y_test))\n",
    "print(accuracy_score(y_pred, y_test))"
   ]
  },
  {
   "cell_type": "markdown",
   "metadata": {},
   "source": [
    "### Multivariate feature imputation"
   ]
  },
  {
   "cell_type": "code",
   "execution_count": 23,
   "metadata": {},
   "outputs": [],
   "source": [
    "it_imp = IterativeImputer()\n",
    "columns = df.columns\n",
    "df_it_imp = pd.DataFrame(it_imp.fit_transform(df))\n",
    "df_it_imp.columns = columns\n",
    "X_it_imp = df_it_imp.drop(['Potability'],axis=1)\n",
    "y_it_imp = df_it_imp['Potability']"
   ]
  },
  {
   "cell_type": "code",
   "execution_count": 24,
   "metadata": {},
   "outputs": [
    {
     "name": "stdout",
     "output_type": "stream",
     "text": [
      "              precision    recall  f1-score   support\n",
      "\n",
      "         0.0       0.87      0.67      0.76       649\n",
      "         1.0       0.33      0.62      0.43       170\n",
      "\n",
      "    accuracy                           0.66       819\n",
      "   macro avg       0.60      0.65      0.60       819\n",
      "weighted avg       0.76      0.66      0.69       819\n",
      "\n",
      "0.6617826617826618\n"
     ]
    }
   ],
   "source": [
    "X_train,X_test,y_train,y_test = train_test_split(X_it_imp,y_it_imp,random_state=0)\n",
    "pipe_svm.fit(X_train, y_train)\n",
    "y_pred = pipe_svm.predict(X_test)\n",
    "print(classification_report(y_pred, y_test))\n",
    "print(accuracy_score(y_pred, y_test))"
   ]
  },
  {
   "cell_type": "markdown",
   "metadata": {},
   "source": [
    "### Combinaison des méthodes"
   ]
  },
  {
   "cell_type": "markdown",
   "metadata": {},
   "source": [
    "Nous allons faire simpleimputer pour les deux champs avec le plus de missing values et prédire la valeur manquante pour Trihalomethanes"
   ]
  },
  {
   "cell_type": "code",
   "execution_count": 25,
   "metadata": {},
   "outputs": [],
   "source": [
    "X_comb = df.drop(['Trihalomethanes'],axis=1)"
   ]
  },
  {
   "cell_type": "code",
   "execution_count": 26,
   "metadata": {},
   "outputs": [],
   "source": [
    "X_comb_mean = pd.DataFrame(imp_mean.fit_transform(X_comb))\n",
    "X_comb_mean[\"Trihalomethanes\"] = df[\"Trihalomethanes\"].to_list()\n",
    "X_comb_mean.columns = ['ph', 'Hardness', 'Solids', 'Chloramines', 'Sulfate', 'Conductivity',\n",
    "       'Organic_carbon', 'Turbidity', 'Potability', 'Trihalomethanes']\n",
    "X_comb_mean = X_comb_mean[['ph', 'Hardness', 'Solids', 'Chloramines', 'Sulfate', 'Conductivity',\n",
    "                            'Organic_carbon', 'Trihalomethanes', 'Turbidity', 'Potability']]\n",
    "X_comb_mean[\"Trihalomethanes\"] = pd.DataFrame(it_imp.fit_transform(X_comb_mean))"
   ]
  },
  {
   "cell_type": "code",
   "execution_count": 27,
   "metadata": {},
   "outputs": [],
   "source": [
    "X = X_comb_mean.drop(['Potability'],axis=1)\n",
    "y = X_comb_mean['Potability']"
   ]
  },
  {
   "cell_type": "code",
   "execution_count": 28,
   "metadata": {},
   "outputs": [
    {
     "name": "stdout",
     "output_type": "stream",
     "text": [
      "              precision    recall  f1-score   support\n",
      "\n",
      "         0.0       0.89      0.68      0.77       650\n",
      "         1.0       0.35      0.66      0.46       169\n",
      "\n",
      "    accuracy                           0.68       819\n",
      "   macro avg       0.62      0.67      0.62       819\n",
      "weighted avg       0.78      0.68      0.71       819\n",
      "\n",
      "0.6800976800976801\n"
     ]
    }
   ],
   "source": [
    "X_train,X_test,y_train,y_test = train_test_split(X,y,random_state=0)\n",
    "pipe_svm.fit(X_train, y_train)\n",
    "y_pred = pipe_svm.predict(X_test)\n",
    "print(classification_report(y_pred, y_test))\n",
    "print(accuracy_score(y_pred, y_test))"
   ]
  },
  {
   "cell_type": "markdown",
   "metadata": {},
   "source": [
    "### Nous constatons qu'aucune des méthodes de gestions de données manquantes ne nous permet d'améliorer de manière significative les résultats hormis l'imputation de la moyenne par classe."
   ]
  },
  {
   "cell_type": "markdown",
   "metadata": {},
   "source": [
    "## SVM"
   ]
  },
  {
   "cell_type": "code",
   "execution_count": 29,
   "metadata": {},
   "outputs": [],
   "source": [
    "from sklearn.model_selection import GridSearchCV"
   ]
  },
  {
   "cell_type": "code",
   "execution_count": 30,
   "metadata": {},
   "outputs": [],
   "source": [
    "params = {'svc__C':[0.001,0.01,0.1,1,3,5,7 ,10],\n",
    "          'svc__kernel':['linear', 'rbf']}\n",
    "#initializing the grid\n",
    "svm = Pipeline([('scaler', StandardScaler()), ('svc', SVC())])\n",
    "grid_svm = GridSearchCV(estimator=svm,param_grid=params,cv=3,verbose=3,n_jobs=-1)\n"
   ]
  },
  {
   "cell_type": "code",
   "execution_count": 31,
   "metadata": {},
   "outputs": [
    {
     "name": "stdout",
     "output_type": "stream",
     "text": [
      "Fitting 3 folds for each of 16 candidates, totalling 48 fits\n",
      "Best params {'svc__C': 3, 'svc__kernel': 'rbf'}\n",
      "              precision    recall  f1-score   support\n",
      "\n",
      "         0.0       0.89      0.68      0.77       650\n",
      "         1.0       0.35      0.66      0.46       169\n",
      "\n",
      "    accuracy                           0.68       819\n",
      "   macro avg       0.62      0.67      0.62       819\n",
      "weighted avg       0.78      0.68      0.71       819\n",
      "\n"
     ]
    }
   ],
   "source": [
    "grid_svm.fit(X_train, y_train)\n",
    "y_pred = grid_svm.predict(X_test)\n",
    "print(\"Best params\", grid_svm.best_params_)\n",
    "print(classification_report(y_pred, y_test))\n"
   ]
  },
  {
   "cell_type": "markdown",
   "metadata": {},
   "source": []
  },
  {
   "cell_type": "markdown",
   "metadata": {},
   "source": [
    "## Logistic regression"
   ]
  },
  {
   "cell_type": "code",
   "execution_count": 32,
   "metadata": {},
   "outputs": [],
   "source": [
    "from sklearn.linear_model import LogisticRegression"
   ]
  },
  {
   "cell_type": "code",
   "execution_count": 33,
   "metadata": {},
   "outputs": [],
   "source": [
    "params = {'log__C':[0.001,0.01,0.1,1,3,5,8, 10]}\n",
    "#initializing the grid\n",
    "log = Pipeline([('scaler', StandardScaler()), ('log', LogisticRegression())])\n",
    "log_search = GridSearchCV(estimator=log,param_grid=params,cv=3,verbose=3,n_jobs=-1)\n"
   ]
  },
  {
   "cell_type": "code",
   "execution_count": 34,
   "metadata": {},
   "outputs": [
    {
     "name": "stdout",
     "output_type": "stream",
     "text": [
      "Fitting 3 folds for each of 8 candidates, totalling 24 fits\n",
      "Best params {'log__C': 1}\n",
      "              precision    recall  f1-score   support\n",
      "\n",
      "         0.0       1.00      0.62      0.76       816\n",
      "         1.0       0.01      1.00      0.02         3\n",
      "\n",
      "    accuracy                           0.62       819\n",
      "   macro avg       0.50      0.81      0.39       819\n",
      "weighted avg       1.00      0.62      0.76       819\n",
      "\n"
     ]
    }
   ],
   "source": [
    "log_search.fit(X_train, y_train)\n",
    "y_pred = log_search.predict(X_test)\n",
    "print(\"Best params\", log_search.best_params_)\n",
    "print(classification_report(y_pred, y_test))"
   ]
  },
  {
   "cell_type": "markdown",
   "metadata": {},
   "source": [
    "## KNN"
   ]
  },
  {
   "cell_type": "code",
   "execution_count": 35,
   "metadata": {},
   "outputs": [],
   "source": [
    "from sklearn.neighbors import KNeighborsClassifier"
   ]
  },
  {
   "cell_type": "code",
   "execution_count": 36,
   "metadata": {},
   "outputs": [],
   "source": [
    "params = {'knn__n_neighbors':range(1,34)}\n",
    "#initializing the grid\n",
    "knn = Pipeline([('scaler', StandardScaler()), ('knn', KNeighborsClassifier())])\n",
    "knn_search = GridSearchCV(estimator=knn,param_grid=params,cv=3,verbose=3)"
   ]
  },
  {
   "cell_type": "code",
   "execution_count": 37,
   "metadata": {},
   "outputs": [
    {
     "name": "stdout",
     "output_type": "stream",
     "text": [
      "Fitting 3 folds for each of 33 candidates, totalling 99 fits\n",
      "[CV 1/3] END ................knn__n_neighbors=1;, score=0.606 total time=   0.1s\n",
      "[CV 2/3] END ................knn__n_neighbors=1;, score=0.611 total time=   0.1s\n",
      "[CV 3/3] END ................knn__n_neighbors=1;, score=0.619 total time=   0.1s\n",
      "[CV 1/3] END ................knn__n_neighbors=2;, score=0.629 total time=   0.1s\n",
      "[CV 2/3] END ................knn__n_neighbors=2;, score=0.626 total time=   0.1s\n",
      "[CV 3/3] END ................knn__n_neighbors=2;, score=0.635 total time=   0.1s\n",
      "[CV 1/3] END ................knn__n_neighbors=3;, score=0.630 total time=   0.1s\n",
      "[CV 2/3] END ................knn__n_neighbors=3;, score=0.621 total time=   0.1s\n",
      "[CV 3/3] END ................knn__n_neighbors=3;, score=0.604 total time=   0.1s\n",
      "[CV 1/3] END ................knn__n_neighbors=4;, score=0.625 total time=   0.1s\n",
      "[CV 2/3] END ................knn__n_neighbors=4;, score=0.637 total time=   0.1s\n",
      "[CV 3/3] END ................knn__n_neighbors=4;, score=0.625 total time=   0.1s\n",
      "[CV 1/3] END ................knn__n_neighbors=5;, score=0.634 total time=   0.1s\n",
      "[CV 2/3] END ................knn__n_neighbors=5;, score=0.634 total time=   0.1s\n",
      "[CV 3/3] END ................knn__n_neighbors=5;, score=0.620 total time=   0.1s\n",
      "[CV 1/3] END ................knn__n_neighbors=6;, score=0.634 total time=   0.1s\n",
      "[CV 2/3] END ................knn__n_neighbors=6;, score=0.647 total time=   0.1s\n",
      "[CV 3/3] END ................knn__n_neighbors=6;, score=0.629 total time=   0.1s\n",
      "[CV 1/3] END ................knn__n_neighbors=7;, score=0.621 total time=   0.1s\n",
      "[CV 2/3] END ................knn__n_neighbors=7;, score=0.631 total time=   0.1s\n",
      "[CV 3/3] END ................knn__n_neighbors=7;, score=0.618 total time=   0.1s\n",
      "[CV 1/3] END ................knn__n_neighbors=8;, score=0.639 total time=   0.1s\n",
      "[CV 2/3] END ................knn__n_neighbors=8;, score=0.640 total time=   0.1s\n",
      "[CV 3/3] END ................knn__n_neighbors=8;, score=0.634 total time=   0.1s\n",
      "[CV 1/3] END ................knn__n_neighbors=9;, score=0.632 total time=   0.1s\n",
      "[CV 2/3] END ................knn__n_neighbors=9;, score=0.635 total time=   0.1s\n",
      "[CV 3/3] END ................knn__n_neighbors=9;, score=0.621 total time=   0.1s\n",
      "[CV 1/3] END ...............knn__n_neighbors=10;, score=0.637 total time=   0.1s\n",
      "[CV 2/3] END ...............knn__n_neighbors=10;, score=0.646 total time=   0.1s\n",
      "[CV 3/3] END ...............knn__n_neighbors=10;, score=0.629 total time=   0.1s\n",
      "[CV 1/3] END ...............knn__n_neighbors=11;, score=0.635 total time=   0.1s\n",
      "[CV 2/3] END ...............knn__n_neighbors=11;, score=0.645 total time=   0.0s\n",
      "[CV 3/3] END ...............knn__n_neighbors=11;, score=0.621 total time=   0.1s\n",
      "[CV 1/3] END ...............knn__n_neighbors=12;, score=0.642 total time=   0.1s\n",
      "[CV 2/3] END ...............knn__n_neighbors=12;, score=0.650 total time=   0.1s\n",
      "[CV 3/3] END ...............knn__n_neighbors=12;, score=0.634 total time=   0.1s\n",
      "[CV 1/3] END ...............knn__n_neighbors=13;, score=0.646 total time=   0.1s\n",
      "[CV 2/3] END ...............knn__n_neighbors=13;, score=0.643 total time=   0.1s\n",
      "[CV 3/3] END ...............knn__n_neighbors=13;, score=0.630 total time=   0.1s\n",
      "[CV 1/3] END ...............knn__n_neighbors=14;, score=0.652 total time=   0.1s\n",
      "[CV 2/3] END ...............knn__n_neighbors=14;, score=0.661 total time=   0.1s\n",
      "[CV 3/3] END ...............knn__n_neighbors=14;, score=0.640 total time=   0.1s\n",
      "[CV 1/3] END ...............knn__n_neighbors=15;, score=0.657 total time=   0.1s\n",
      "[CV 2/3] END ...............knn__n_neighbors=15;, score=0.647 total time=   0.1s\n",
      "[CV 3/3] END ...............knn__n_neighbors=15;, score=0.636 total time=   0.1s\n",
      "[CV 1/3] END ...............knn__n_neighbors=16;, score=0.662 total time=   0.1s\n",
      "[CV 2/3] END ...............knn__n_neighbors=16;, score=0.663 total time=   0.1s\n",
      "[CV 3/3] END ...............knn__n_neighbors=16;, score=0.641 total time=   0.1s\n",
      "[CV 1/3] END ...............knn__n_neighbors=17;, score=0.654 total time=   0.1s\n",
      "[CV 2/3] END ...............knn__n_neighbors=17;, score=0.648 total time=   0.1s\n",
      "[CV 3/3] END ...............knn__n_neighbors=17;, score=0.639 total time=   0.1s\n",
      "[CV 1/3] END ...............knn__n_neighbors=18;, score=0.665 total time=   0.1s\n",
      "[CV 2/3] END ...............knn__n_neighbors=18;, score=0.652 total time=   0.1s\n",
      "[CV 3/3] END ...............knn__n_neighbors=18;, score=0.639 total time=   0.1s\n",
      "[CV 1/3] END ...............knn__n_neighbors=19;, score=0.663 total time=   0.1s\n",
      "[CV 2/3] END ...............knn__n_neighbors=19;, score=0.643 total time=   0.1s\n",
      "[CV 3/3] END ...............knn__n_neighbors=19;, score=0.643 total time=   0.1s\n",
      "[CV 1/3] END ...............knn__n_neighbors=20;, score=0.663 total time=   0.1s\n",
      "[CV 2/3] END ...............knn__n_neighbors=20;, score=0.648 total time=   0.1s\n",
      "[CV 3/3] END ...............knn__n_neighbors=20;, score=0.641 total time=   0.1s\n",
      "[CV 1/3] END ...............knn__n_neighbors=21;, score=0.661 total time=   0.1s\n",
      "[CV 2/3] END ...............knn__n_neighbors=21;, score=0.647 total time=   0.1s\n",
      "[CV 3/3] END ...............knn__n_neighbors=21;, score=0.640 total time=   0.1s\n",
      "[CV 1/3] END ...............knn__n_neighbors=22;, score=0.662 total time=   0.1s\n",
      "[CV 2/3] END ...............knn__n_neighbors=22;, score=0.643 total time=   0.1s\n",
      "[CV 3/3] END ...............knn__n_neighbors=22;, score=0.641 total time=   0.1s\n",
      "[CV 1/3] END ...............knn__n_neighbors=23;, score=0.667 total time=   0.1s\n",
      "[CV 2/3] END ...............knn__n_neighbors=23;, score=0.651 total time=   0.1s\n",
      "[CV 3/3] END ...............knn__n_neighbors=23;, score=0.643 total time=   0.1s\n",
      "[CV 1/3] END ...............knn__n_neighbors=24;, score=0.659 total time=   0.1s\n",
      "[CV 2/3] END ...............knn__n_neighbors=24;, score=0.647 total time=   0.1s\n",
      "[CV 3/3] END ...............knn__n_neighbors=24;, score=0.652 total time=   0.1s\n",
      "[CV 1/3] END ...............knn__n_neighbors=25;, score=0.664 total time=   0.1s\n",
      "[CV 2/3] END ...............knn__n_neighbors=25;, score=0.643 total time=   0.1s\n",
      "[CV 3/3] END ...............knn__n_neighbors=25;, score=0.650 total time=   0.1s\n",
      "[CV 1/3] END ...............knn__n_neighbors=26;, score=0.659 total time=   0.1s\n",
      "[CV 2/3] END ...............knn__n_neighbors=26;, score=0.647 total time=   0.1s\n",
      "[CV 3/3] END ...............knn__n_neighbors=26;, score=0.646 total time=   0.1s\n",
      "[CV 1/3] END ...............knn__n_neighbors=27;, score=0.659 total time=   0.1s\n",
      "[CV 2/3] END ...............knn__n_neighbors=27;, score=0.653 total time=   0.1s\n",
      "[CV 3/3] END ...............knn__n_neighbors=27;, score=0.656 total time=   0.1s\n",
      "[CV 1/3] END ...............knn__n_neighbors=28;, score=0.659 total time=   0.1s\n",
      "[CV 2/3] END ...............knn__n_neighbors=28;, score=0.653 total time=   0.1s\n",
      "[CV 3/3] END ...............knn__n_neighbors=28;, score=0.653 total time=   0.1s\n",
      "[CV 1/3] END ...............knn__n_neighbors=29;, score=0.651 total time=   0.1s\n",
      "[CV 2/3] END ...............knn__n_neighbors=29;, score=0.656 total time=   0.1s\n",
      "[CV 3/3] END ...............knn__n_neighbors=29;, score=0.658 total time=   0.1s\n",
      "[CV 1/3] END ...............knn__n_neighbors=30;, score=0.654 total time=   0.1s\n",
      "[CV 2/3] END ...............knn__n_neighbors=30;, score=0.647 total time=   0.1s\n",
      "[CV 3/3] END ...............knn__n_neighbors=30;, score=0.651 total time=   0.1s\n",
      "[CV 1/3] END ...............knn__n_neighbors=31;, score=0.656 total time=   0.1s\n",
      "[CV 2/3] END ...............knn__n_neighbors=31;, score=0.659 total time=   0.1s\n",
      "[CV 3/3] END ...............knn__n_neighbors=31;, score=0.645 total time=   0.1s\n",
      "[CV 1/3] END ...............knn__n_neighbors=32;, score=0.657 total time=   0.1s\n",
      "[CV 2/3] END ...............knn__n_neighbors=32;, score=0.645 total time=   0.1s\n",
      "[CV 3/3] END ...............knn__n_neighbors=32;, score=0.654 total time=   0.1s\n",
      "[CV 1/3] END ...............knn__n_neighbors=33;, score=0.657 total time=   0.1s\n",
      "[CV 2/3] END ...............knn__n_neighbors=33;, score=0.652 total time=   0.1s\n",
      "[CV 3/3] END ...............knn__n_neighbors=33;, score=0.652 total time=   0.1s\n",
      "Best params {'knn__n_neighbors': 27}\n",
      "              precision    recall  f1-score   support\n",
      "\n",
      "         0.0       0.92      0.66      0.77       708\n",
      "         1.0       0.23      0.66      0.34       111\n",
      "\n",
      "    accuracy                           0.66       819\n",
      "   macro avg       0.58      0.66      0.55       819\n",
      "weighted avg       0.83      0.66      0.71       819\n",
      "\n"
     ]
    }
   ],
   "source": [
    "knn_search.fit(X_train, y_train)\n",
    "y_pred = knn_search.predict(X_test)\n",
    "print(\"Best params\", knn_search.best_params_)\n",
    "print(classification_report(y_pred, y_test))"
   ]
  },
  {
   "cell_type": "markdown",
   "metadata": {},
   "source": [
    "## Random Forest"
   ]
  },
  {
   "cell_type": "code",
   "execution_count": 38,
   "metadata": {},
   "outputs": [
    {
     "name": "stdout",
     "output_type": "stream",
     "text": [
      "WARNING - drinkable water - No observers have been added to this run\n",
      "INFO - drinkable water - Running command 'main'\n",
      "INFO - drinkable water - Started\n",
      "INFO - drinkable water - Result: 0.7955871932572538\n",
      "INFO - drinkable water - Completed after 0:00:26\n"
     ]
    }
   ],
   "source": [
    "!python3 main.py"
   ]
  },
  {
   "cell_type": "markdown",
   "metadata": {},
   "source": [
    "Les meilleurs résultats que nous obtenons sont avec le random forest. Nous avons une accurary pas loin de 80%. Avec la configuration:\n",
    "\n",
    "fill_na_method = \"mean by class\"\n",
    "remove_outliers = False\n",
    "normalize_features = True\n",
    "reduce_dimension = None\n",
    "model_used = \"Random Forest\"\n",
    "\n"
   ]
  }
 ],
 "metadata": {
  "kernelspec": {
   "display_name": "Python 3.6.9 64-bit",
   "metadata": {
    "interpreter": {
     "hash": "31f2aee4e71d21fbe5cf8b01ff0e069b9275f58929596ceb00d14d90e3e16cd6"
    }
   },
   "name": "python3"
  },
  "language_info": {
   "codemirror_mode": {
    "name": "ipython",
    "version": 3
   },
   "file_extension": ".py",
   "mimetype": "text/x-python",
   "name": "python",
   "nbconvert_exporter": "python",
   "pygments_lexer": "ipython3",
   "version": "3.6.9"
  },
  "orig_nbformat": 2
 },
 "nbformat": 4,
 "nbformat_minor": 2
}